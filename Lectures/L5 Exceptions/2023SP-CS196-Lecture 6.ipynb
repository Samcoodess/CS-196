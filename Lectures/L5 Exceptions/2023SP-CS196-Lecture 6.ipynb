{
 "cells": [
  {
   "attachments": {},
   "cell_type": "markdown",
   "metadata": {},
   "source": [
    "# Catching and Raising Errors\n",
    "\n",
    "> <font color='green'>CS196 - Lecture 6</font>\n",
    ">\n",
    "> **Instructor:** *Dr. V*\n",
    "\n",
    "---"
   ]
  },
  {
   "attachments": {},
   "cell_type": "markdown",
   "metadata": {},
   "source": [
    "----\n",
    "### Catching Errors"
   ]
  },
  {
   "attachments": {},
   "cell_type": "markdown",
   "metadata": {},
   "source": [
    "There are two types of errors --\n",
    "- **compile time errors**\n",
    "- **runtime errors**\n",
    "\n",
    "Syntax errors in python are compile time errors.  \n",
    "These errors are easy to catch --  \n",
    "If you do not write your code using correct syntax, you will get a syntax error before your code even runs.\n",
    "\n",
    "Runtime errors are called **exceptions**.\n",
    "Exceptions are much less predictable than compile errors. \n",
    "Your code might run perfectly fine when you test it, but when your user is using your application, they may encounter some runtime error that you did not foresee.\n",
    "\n",
    "So, how do we catch runtime errors and prevent our code from crashing?"
   ]
  },
  {
   "cell_type": "code",
   "execution_count": null,
   "metadata": {},
   "outputs": [],
   "source": [
    "class Foo:\n",
    "    def __init__(self, x):\n",
    "        self.x = x\n",
    "    def __add__(self, y):\n",
    "        return self.x + y\n",
    "\n",
    "f = Foo(5)\n",
    "\n",
    "# what is the output of this code?\n",
    "print( f + 4)"
   ]
  },
  {
   "cell_type": "code",
   "execution_count": null,
   "metadata": {},
   "outputs": [],
   "source": [
    "# what is the output of this code?\n",
    "print( f + 'abc' )"
   ]
  },
  {
   "attachments": {},
   "cell_type": "markdown",
   "metadata": {},
   "source": [
    "In python there is a code block called `try`-`except` that enables you to catch errors (i.e., **exceptions**) --"
   ]
  },
  {
   "cell_type": "code",
   "execution_count": null,
   "metadata": {},
   "outputs": [],
   "source": [
    "# what is the output of this code?\n",
    "try:\n",
    "    print( f + 4 )\n",
    "except:\n",
    "    print('i caught an error!')"
   ]
  },
  {
   "cell_type": "code",
   "execution_count": null,
   "metadata": {},
   "outputs": [],
   "source": [
    "# what is the output of this code?\n",
    "try:\n",
    "    print( f + 'abc' )\n",
    "except:\n",
    "    print('i caught an error!')"
   ]
  },
  {
   "attachments": {},
   "cell_type": "markdown",
   "metadata": {},
   "source": [
    "So you can imagine using `try`-`except` to enable error-free behavior --"
   ]
  },
  {
   "cell_type": "code",
   "execution_count": null,
   "metadata": {},
   "outputs": [],
   "source": [
    "class Foo:\n",
    "    def __init__(self, x):\n",
    "        self.x = x\n",
    "    def __add__(self, y):\n",
    "        try:\n",
    "            return self.x + y\n",
    "        except:\n",
    "            return self.x + bool(y)\n",
    "\n",
    "f = Foo(5)\n",
    "\n",
    "# what is the output of this code?\n",
    "print( f + 4 )\n",
    "print( f + 'abc' )\n",
    "print( f + '' )"
   ]
  },
  {
   "attachments": {},
   "cell_type": "markdown",
   "metadata": {},
   "source": [
    "----\n",
    "### `try`-`except`-`finally`"
   ]
  },
  {
   "attachments": {},
   "cell_type": "markdown",
   "metadata": {},
   "source": [
    "There is a special `finally` code block you can add below your `try`-`except` code blocks.\n",
    "\n",
    "The `finally` code block will execute BEFORE your function exits, regardless of whether an error was caught or not --"
   ]
  },
  {
   "cell_type": "code",
   "execution_count": null,
   "metadata": {},
   "outputs": [],
   "source": [
    "class Foo:\n",
    "    def __init__(self, x):\n",
    "        self.x = x\n",
    "    def __add__(self, y):\n",
    "        try:\n",
    "            return self.x + y\n",
    "        except:\n",
    "            return self.x + bool(y)\n",
    "        finally:\n",
    "            print(f'we added [ {self.x} ] to [ {y} ]')\n",
    "\n",
    "f = Foo(5)\n",
    "\n",
    "# what is the output of this code?\n",
    "print( f + 4 )\n",
    "print( f + 'abc' )"
   ]
  },
  {
   "attachments": {},
   "cell_type": "markdown",
   "metadata": {},
   "source": [
    "----\n",
    "### `try`-`except`-`else`-`finally`"
   ]
  },
  {
   "attachments": {},
   "cell_type": "markdown",
   "metadata": {},
   "source": [
    "There is a special `else` code block you can add below your `try`-`except` code blocks (and before `finally` block, if you have a `finally` block).\n",
    "\n",
    "The `else` code block will execute only if you got no errors --"
   ]
  },
  {
   "cell_type": "code",
   "execution_count": null,
   "metadata": {},
   "outputs": [],
   "source": [
    "class Foo:\n",
    "    def __init__(self, x):\n",
    "        self.x = x\n",
    "    def __add__(self, y):\n",
    "        try:\n",
    "            sum = self.x + y\n",
    "        except:\n",
    "            print(f\"why are you adding a {type(y).__name__} to me?\")\n",
    "            return self.x + bool(y)\n",
    "        else:\n",
    "            print('thanks for adding a numeric value to me...')\n",
    "            return sum\n",
    "        finally:\n",
    "            print(f'we added [ {self.x} ] to [ {y} ]')\n",
    "\n",
    "f = Foo(5)\n",
    "\n",
    "# what is the output of this code?\n",
    "print( f + 4 )\n",
    "print( f + 'abc' )"
   ]
  },
  {
   "attachments": {},
   "cell_type": "markdown",
   "metadata": {},
   "source": [
    "----\n",
    "### Catching specific error types"
   ]
  },
  {
   "attachments": {},
   "cell_type": "markdown",
   "metadata": {},
   "source": [
    "You can catch specific error types separately by naming the `Exception` type.\n",
    "\n",
    "You can also have multiple `except` code blocks, each looking for a specific `Exception` --"
   ]
  },
  {
   "cell_type": "code",
   "execution_count": null,
   "metadata": {},
   "outputs": [],
   "source": [
    "def foo(a,b):\n",
    "    try:\n",
    "        return a/b\n",
    "    except TypeError:\n",
    "        print(\"Either A or B isn't a numeric value.\")\n",
    "    except:\n",
    "        print(\"Something went wrong (but at least A and B are both numbers).\")\n",
    "\n",
    "# what does this print?\n",
    "foo(5, 'abc')"
   ]
  },
  {
   "cell_type": "code",
   "execution_count": null,
   "metadata": {},
   "outputs": [],
   "source": [
    "# what does this print?\n",
    "foo(5, 0)"
   ]
  },
  {
   "cell_type": "code",
   "execution_count": null,
   "metadata": {},
   "outputs": [],
   "source": [
    "def foo(a,b):\n",
    "    try:\n",
    "        return a/b\n",
    "    except TypeError:\n",
    "        print(\"Either A or B isn't a numeric value.\")\n",
    "    except ZeroDivisionError:\n",
    "        print(\"You cannot divide by zero.\")\n",
    "    except:\n",
    "        print(\"Something went wrong (but at least A and B are both numbers and B isn't zero).\")\n",
    "\n",
    "# what does this print?\n",
    "foo(5, 0)"
   ]
  },
  {
   "attachments": {},
   "cell_type": "markdown",
   "metadata": {},
   "source": [
    "You can also have a tuple with multiple exception types specified for any `except` block --"
   ]
  },
  {
   "cell_type": "code",
   "execution_count": null,
   "metadata": {},
   "outputs": [],
   "source": [
    "def foo():\n",
    "    try:\n",
    "        return x / y\n",
    "    except (NameError, ZeroDivisionError):\n",
    "        print(\"Either y is zero or it isn't defined.\")\n",
    "    except TypeError:\n",
    "        print(\"Either x or y isn't numeric.\")\n",
    "    except:\n",
    "        print(\"Something else went wrong...\")\n",
    "\n",
    "x = 10\n",
    "# what does this print?\n",
    "foo()"
   ]
  },
  {
   "attachments": {},
   "cell_type": "markdown",
   "metadata": {},
   "source": [
    "----\n",
    "### Saving an exception `as` a variable"
   ]
  },
  {
   "attachments": {},
   "cell_type": "markdown",
   "metadata": {},
   "source": [
    "Use the `as` operator after your exception name (or exception tuple) to assign the error to a variable -- "
   ]
  },
  {
   "cell_type": "code",
   "execution_count": null,
   "metadata": {},
   "outputs": [],
   "source": [
    "try:\n",
    "    5 / 0\n",
    "except ZeroDivisionError as err:\n",
    "    print(err)"
   ]
  },
  {
   "attachments": {},
   "cell_type": "markdown",
   "metadata": {},
   "source": [
    "If you want to catch *any* exception, and assign that to a variable, do the following `catch Exception as myvar: ...` --"
   ]
  },
  {
   "cell_type": "code",
   "execution_count": null,
   "metadata": {},
   "outputs": [],
   "source": [
    "try:\n",
    "    5 / 0\n",
    "except Exception as err:\n",
    "    print('just so you know, you got an error --', err)\n",
    "    print(f\"the error occurred on line {err.__traceback__.tb_lineno}\")\n"
   ]
  },
  {
   "attachments": {},
   "cell_type": "markdown",
   "metadata": {},
   "source": [
    "----\n",
    "### Exception class hierarchy"
   ]
  },
  {
   "attachments": {},
   "cell_type": "markdown",
   "metadata": {},
   "source": [
    "The reason why you can catch any error by saying `except Exception:` is because `Exception` is the base class for all the errors you might want to catch."
   ]
  },
  {
   "cell_type": "code",
   "execution_count": null,
   "metadata": {},
   "outputs": [],
   "source": [
    "# what does this print?\n",
    "\n",
    "try:\n",
    "    5 / 0\n",
    "except Exception as err:\n",
    "    print( type(err) )\n",
    "    print( isinstance(err, ZeroDivisionError) )\n",
    "    print( isinstance(err, Exception) )"
   ]
  },
  {
   "attachments": {},
   "cell_type": "markdown",
   "metadata": {},
   "source": [
    "Let's use the `mro()` method to get the class hierarchy of `ZeroDivisionError` --"
   ]
  },
  {
   "cell_type": "code",
   "execution_count": null,
   "metadata": {},
   "outputs": [],
   "source": [
    "ZeroDivisionError.mro()"
   ]
  },
  {
   "attachments": {},
   "cell_type": "markdown",
   "metadata": {},
   "source": [
    "Note that `ZeroDivisionError` is a subclass of `ArithmeticError`, which is a subclass of `Exception`, which is a subclass of `BaseException`.\n",
    "\n",
    "That means you can catch division by zero in all of the following ways --"
   ]
  },
  {
   "cell_type": "code",
   "execution_count": null,
   "metadata": {},
   "outputs": [],
   "source": [
    "try:\n",
    "    5 / 0\n",
    "except:\n",
    "    print('something went wrong')\n",
    "\n",
    "# same thing as above\n",
    "try:\n",
    "    5 / 0\n",
    "except BaseException:\n",
    "    print('something went wrong')\n",
    "\n",
    "# almost the same thing, looking for any exceptions\n",
    "try:\n",
    "    5 / 0\n",
    "except Exception:\n",
    "    print('something went wrong')\n",
    "\n",
    "# looking specifically for arithmetic errors\n",
    "try:\n",
    "    5 / 0\n",
    "except ArithmeticError:\n",
    "    print('something went wrong')\n",
    "\n",
    "# looking for division by zero errors only\n",
    "try:\n",
    "    5 / 0\n",
    "except ZeroDivisionError:\n",
    "    print('something went wrong')"
   ]
  },
  {
   "attachments": {},
   "cell_type": "markdown",
   "metadata": {},
   "source": [
    "What's the difference between `Exception` and its superclass `BaseException`?\n",
    "\n",
    "You'll be able to catch most errors with `except Exception: ...`.\n",
    "\n",
    "There are 3 exceptions that are instances of `BaseException` but are not instances of `Exception` --\n",
    "- SystemExit\n",
    "- KeyboardInterrupt\n",
    "- GeneratorExit"
   ]
  },
  {
   "attachments": {},
   "cell_type": "markdown",
   "metadata": {},
   "source": [
    "----\n",
    "### Raising Errors"
   ]
  },
  {
   "attachments": {},
   "cell_type": "markdown",
   "metadata": {},
   "source": [
    "Not only can you catch errors, you can raise errors too.\n",
    "\n",
    "We already know how to raise an `AssertionError` --"
   ]
  },
  {
   "cell_type": "code",
   "execution_count": null,
   "metadata": {},
   "outputs": [],
   "source": [
    "def foo(x,y):\n",
    "    assert isinstance(x,(int,float)) and isinstance(y,(int,float)), \"x and y must be numeric\"\n",
    "    return x+y\n",
    "\n",
    "# what does this print?\n",
    "\n",
    "print( foo('abc','def') )"
   ]
  },
  {
   "attachments": {},
   "cell_type": "markdown",
   "metadata": {},
   "source": [
    "You can also use `raise` to raise any exception you want --"
   ]
  },
  {
   "cell_type": "code",
   "execution_count": null,
   "metadata": {},
   "outputs": [],
   "source": [
    "raise ZeroDivisionError('you got problems')"
   ]
  },
  {
   "attachments": {},
   "cell_type": "markdown",
   "metadata": {},
   "source": [
    "When you create a new exception, you can specify arguments for this error, and then those args can be read in another part of your code --"
   ]
  },
  {
   "cell_type": "code",
   "execution_count": null,
   "metadata": {},
   "outputs": [],
   "source": [
    "def foo(x,y):\n",
    "    try:\n",
    "        return x/y\n",
    "    except:\n",
    "        raise Exception(x,y)\n",
    "\n",
    "try:\n",
    "    foo(4,0)\n",
    "except Exception as err:\n",
    "    print('Ran into problems calling foo() with the following arguments --', err.args)"
   ]
  },
  {
   "cell_type": "code",
   "execution_count": null,
   "metadata": {},
   "outputs": [],
   "source": [
    "import math\n",
    "\n",
    "def foo(x):\n",
    "    try:\n",
    "        return math.log(x-1)\n",
    "    except Exception as err:\n",
    "        raise Exception(str(err),'cannot get log of',x-1)\n",
    "\n",
    "try:\n",
    "    foo(1)\n",
    "except Exception as err:\n",
    "    print('Ran into problems calling foo() --', err.args)"
   ]
  },
  {
   "attachments": {},
   "cell_type": "markdown",
   "metadata": {},
   "source": [
    "----\n",
    "### Creating your own exceptions"
   ]
  },
  {
   "attachments": {},
   "cell_type": "markdown",
   "metadata": {},
   "source": [
    "Just like you can inherit from any other class, you can also inherit from the `Exception` class when defining your own class.\n",
    "\n",
    "In this way you can create your own exception types --"
   ]
  },
  {
   "cell_type": "code",
   "execution_count": null,
   "metadata": {},
   "outputs": [],
   "source": [
    "class MyException(Exception):\n",
    "    def __str__(self):\n",
    "        return \"this is my exception, and there's nothing you can do about it\"\n",
    "\n",
    "def foo(x):\n",
    "    if x<0:\n",
    "        raise MyException\n",
    "    return x * 2\n",
    "\n",
    "# what does this print?\n",
    "try:\n",
    "    foo(-1)\n",
    "except Exception as err:\n",
    "    print(err)"
   ]
  },
  {
   "attachments": {},
   "cell_type": "markdown",
   "metadata": {},
   "source": [
    "You do not even have to override `__str__` (or any methods) in the `Exception` class for your custom exception to be meaningful --"
   ]
  },
  {
   "cell_type": "code",
   "execution_count": null,
   "metadata": {},
   "outputs": [],
   "source": [
    "class LessThanZeroError(ArithmeticError):\n",
    "    pass\n",
    "\n",
    "def foo(x):\n",
    "    if x<0:\n",
    "        raise LessThanZeroError('x is less than 0')\n",
    "    return x * 2\n",
    "\n",
    "# what does this output?\n",
    "foo(-1)"
   ]
  },
  {
   "attachments": {},
   "cell_type": "markdown",
   "metadata": {},
   "source": [
    "----\n",
    "### Summary"
   ]
  },
  {
   "attachments": {},
   "cell_type": "markdown",
   "metadata": {},
   "source": [
    "In python (and most programming languages) you can catch and raise runtime errors.\n",
    "\n",
    "Runtime errors are called **exceptions**.\n",
    "\n",
    "Use `try`-`except` blocks to catch exceptions in python code."
   ]
  },
  {
   "cell_type": "code",
   "execution_count": null,
   "metadata": {},
   "outputs": [],
   "source": [
    "try:\n",
    "    # do something\n",
    "except:\n",
    "    # things to do if an error occurred in the try block"
   ]
  },
  {
   "attachments": {},
   "cell_type": "markdown",
   "metadata": {},
   "source": [
    "You can extend this to `try`-`except`-`else`-`finally` for additional functionality.\n",
    "\n",
    "You can catch specific error types by specifying the error type after the word `except`."
   ]
  },
  {
   "cell_type": "code",
   "execution_count": null,
   "metadata": {},
   "outputs": [],
   "source": [
    "try:\n",
    "    # do something\n",
    "except NameError:\n",
    "    # things to do in case NameError was raised\n",
    "except ZeroDivisionError:\n",
    "    # things to do in case ZeroDivisionError was raised\n",
    "except ArithmeticError:\n",
    "    # things to do in case another ArithmeticError was raised\n",
    "except:\n",
    "    # things to do if some other exception was raised"
   ]
  },
  {
   "attachments": {},
   "cell_type": "markdown",
   "metadata": {},
   "source": [
    "You can raise exceptions in several ways --"
   ]
  },
  {
   "cell_type": "code",
   "execution_count": null,
   "metadata": {},
   "outputs": [],
   "source": [
    "x='5'\n",
    "# raise AssertionError depending on some condition\n",
    "assert isinstance(x, int), \"my error message\""
   ]
  },
  {
   "cell_type": "code",
   "execution_count": null,
   "metadata": {},
   "outputs": [],
   "source": [
    "# raise a general Exception\n",
    "raise Exception()"
   ]
  },
  {
   "cell_type": "code",
   "execution_count": null,
   "metadata": {},
   "outputs": [],
   "source": [
    "# raise a specific exception type\n",
    "raise ArithmeticError()"
   ]
  },
  {
   "cell_type": "code",
   "execution_count": null,
   "metadata": {},
   "outputs": [],
   "source": [
    "# raise Exception with an argument\n",
    "raise Exception(\"my error message\")"
   ]
  },
  {
   "cell_type": "code",
   "execution_count": null,
   "metadata": {},
   "outputs": [],
   "source": [
    "# create a custom exception type\n",
    "class LessThanZeroError(Exception):\n",
    "    pass\n",
    "\n",
    "x = -2\n",
    "if x < 0:\n",
    "    # raise custom exception\n",
    "    raise LessThanZeroError()"
   ]
  },
  {
   "attachments": {},
   "cell_type": "markdown",
   "metadata": {},
   "source": [
    "----\n",
    "### Assignment 5"
   ]
  },
  {
   "attachments": {},
   "cell_type": "markdown",
   "metadata": {},
   "source": [
    "(*due before next lecture*)\n",
    "\n",
    "Come up with two ideas for your final project.\n",
    "\n",
    "Your final project must have the following functionality:\n",
    "- GUI and/or graphics\n",
    "- File or database data storage, using all 4 CRUD operations (create, read, update, and delete)\n",
    "\n",
    "Sample ideas:\n",
    "- todo app\n",
    "- text editor\n",
    "- drawing app (with save/load game functionality)\n",
    "- checkers (with save/load game functionality)\n",
    "\n",
    "Submit your two ideas on blackboard (**NOT in the comments**, in the main textarea)."
   ]
  }
 ],
 "metadata": {
  "kernelspec": {
   "display_name": "Python 3.10.2 64-bit",
   "language": "python",
   "name": "python3"
  },
  "language_info": {
   "codemirror_mode": {
    "name": "ipython",
    "version": 3
   },
   "file_extension": ".py",
   "mimetype": "text/x-python",
   "name": "python",
   "nbconvert_exporter": "python",
   "pygments_lexer": "ipython3",
   "version": "3.11.1"
  },
  "orig_nbformat": 4,
  "vscode": {
   "interpreter": {
    "hash": "369f2c481f4da34e4445cda3fffd2e751bd1c4d706f27375911949ba6bb62e1c"
   }
  }
 },
 "nbformat": 4,
 "nbformat_minor": 2
}
